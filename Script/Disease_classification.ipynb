{
 "cells": [
  {
   "cell_type": "code",
   "execution_count": 1,
   "id": "571bd1f0-d992-445d-95e0-a211457b9140",
   "metadata": {},
   "outputs": [],
   "source": [
    "def load_file_lines(file_path):\n",
    "    file=open(file_path,\"r\")\n",
    "    lines=file.read().splitlines()\n",
    "    return lines\n"
   ]
  },
  {
   "cell_type": "code",
   "execution_count": 2,
   "id": "876af22d-ef76-4181-847f-8aa7816ea9b4",
   "metadata": {},
   "outputs": [],
   "source": [
    "def generate_k_mer(line,k):\n",
    "    for i in range(len(line)-k+1):\n",
    "        seq=line[i:i+k]\n",
    "        yield seq"
   ]
  },
  {
   "cell_type": "code",
   "execution_count": 3,
   "id": "66a0a642-5edc-4ce6-9ff2-7627a304e00c",
   "metadata": {},
   "outputs": [],
   "source": [
    "import redis\n",
    "r=redis.Redis(host='localhost',port=6379)\n",
    "\n",
    "def save_k_mer(k_mer,label):\n",
    "    key = f\"{k_mer}_label\"\n",
    "    r.set(key, 1)\n",
    "    \n",
    "    # if k_mer not in store:\n",
    "        # store[k_mer]=[label]\n",
    "    # else:\n",
    "        # labels=store[k_mer]\n",
    "        # if label not in labels:\n",
    "            # labels.append(label)"
   ]
  },
  {
   "cell_type": "code",
   "execution_count": 4,
   "id": "0c782746-fcc0-4887-8dd7-bb384d4dd7e8",
   "metadata": {},
   "outputs": [],
   "source": [
    "def extract_k_mers_from_line(line, label, k):\n",
    "    for k_mer in generate_k_mer(line,k):\n",
    "        save_k_mer(k_mer,label)"
   ]
  },
  {
   "cell_type": "code",
   "execution_count": 5,
   "id": "83d5bf64-d5cc-4dac-bfc2-4bc22416f32d",
   "metadata": {
    "tags": []
   },
   "outputs": [],
   "source": [
    "from multiprocessing import Pool\n",
    "from itertools import cycle\n",
    "\n",
    "def extract_k_mers(file_path,label,k):\n",
    "    lines=load_file_lines(file_path)\n",
    "    \n",
    "    args = list(zip(lines, cycle([label]), cycle([k])))\n",
    "    \n",
    "    with Pool(5) as p:\n",
    "        p.starmap(extract_k_mers_from_line, args)\n",
    "\n",
    "    # for line in lines:\n",
    "    #     extract_k_mers_from_line(line, label, k)\n",
    "        \n",
    "            "
   ]
  },
  {
   "cell_type": "code",
   "execution_count": 6,
   "id": "e70a73b7-b6af-4ad3-bd64-9aea7f3a6697",
   "metadata": {
    "tags": []
   },
   "outputs": [
    {
     "name": "stdout",
     "output_type": "stream",
     "text": [
      "Elapsed Time:  11188.115370035172\n"
     ]
    }
   ],
   "source": [
    "import time\n",
    "\n",
    "start = time.time()\n",
    "extract_k_mers(\"./clean_data/Seq_SRS.txt\",\"SRS\",10)\n",
    "end = time.time()\n",
    "\n",
    "\n",
    "print(\"Elapsed Time: \", end - start)"
   ]
  },
  {
   "cell_type": "code",
   "execution_count": 7,
   "id": "4b087494-0929-455b-b523-5b8804b8c4ea",
   "metadata": {},
   "outputs": [
    {
     "ename": "NameError",
     "evalue": "name 'store' is not defined",
     "output_type": "error",
     "traceback": [
      "\u001b[0;31m---------------------------------------------------------------------------\u001b[0m",
      "\u001b[0;31mNameError\u001b[0m                                 Traceback (most recent call last)",
      "\u001b[0;32m/tmp/ipykernel_10490/3292147286.py\u001b[0m in \u001b[0;36m<module>\u001b[0;34m\u001b[0m\n\u001b[0;32m----> 1\u001b[0;31m \u001b[0mprint\u001b[0m\u001b[0;34m(\u001b[0m\u001b[0mlen\u001b[0m\u001b[0;34m(\u001b[0m\u001b[0mstore\u001b[0m\u001b[0;34m)\u001b[0m\u001b[0;34m)\u001b[0m\u001b[0;34m\u001b[0m\u001b[0;34m\u001b[0m\u001b[0m\n\u001b[0m",
      "\u001b[0;31mNameError\u001b[0m: name 'store' is not defined"
     ]
    }
   ],
   "source": [
    "print(len(store))"
   ]
  },
  {
   "cell_type": "code",
   "execution_count": null,
   "id": "347bdbc0-57a5-401b-9e7c-1c72586fa1ee",
   "metadata": {},
   "outputs": [],
   "source": [
    "# !pip install redis"
   ]
  },
  {
   "cell_type": "code",
   "execution_count": null,
   "id": "941ebcbb-7c59-4e8a-a17a-60c442b4d688",
   "metadata": {},
   "outputs": [],
   "source": [
    "# import redis\n",
    "# import time \n",
    "# r=redis.Redis(host='localhost',port=6379)\n",
    "# # r.set(\"France\",\"Paris\")\n",
    "# # r.set(\"Germany\",\"Berlin\")\n",
    "# capital_france=r.get(\"France\")\n",
    "# capital_germany=r.get(\"Germany\")\n",
    "# print(capital_france)\n",
    "# print(capital_germany)"
   ]
  },
  {
   "cell_type": "code",
   "execution_count": null,
   "id": "d324bcb5-9e22-4ee2-a129-d9d91f141659",
   "metadata": {},
   "outputs": [],
   "source": []
  }
 ],
 "metadata": {
  "kernelspec": {
   "display_name": "Deep_Py",
   "language": "python",
   "name": "ipy_deep"
  },
  "language_info": {
   "codemirror_mode": {
    "name": "ipython",
    "version": 3
   },
   "file_extension": ".py",
   "mimetype": "text/x-python",
   "name": "python",
   "nbconvert_exporter": "python",
   "pygments_lexer": "ipython3",
   "version": "3.9.7"
  }
 },
 "nbformat": 4,
 "nbformat_minor": 5
}
