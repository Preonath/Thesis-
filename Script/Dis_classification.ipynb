{
 "cells": [
  {
   "cell_type": "code",
   "execution_count": null,
   "id": "e70a73b7-b6af-4ad3-bd64-9aea7f3a6697",
   "metadata": {},
   "outputs": [],
   "source": [
    "import time\n",
    "from functools import wraps\n",
    "\n",
    "def timeit(fn):\n",
    "    @wraps(fn)\n",
    "    def wrapper(*args, **kwargs):\n",
    "        start = time.time()\n",
    "        result = fn(*args, **kwargs)\n",
    "        end = time.time()\n",
    "    \n",
    "        print(\"Elapsed Time: \", end - start)\n",
    "        return result\n",
    "    \n",
    "    return wrapper"
   ]
  },
  {
   "cell_type": "code",
   "execution_count": null,
   "id": "73e33d15-14d2-46ca-8233-59f484e9a260",
   "metadata": {
    "id": "73e33d15-14d2-46ca-8233-59f484e9a260"
   },
   "outputs": [],
   "source": [
    "# import redis"
   ]
  },
  {
   "cell_type": "code",
   "execution_count": null,
   "id": "ef0411ac-ab8a-4594-983a-65d3b7f7a3bc",
   "metadata": {
    "id": "ef0411ac-ab8a-4594-983a-65d3b7f7a3bc"
   },
   "outputs": [],
   "source": [
    "# import redis\n",
    "# r=redis.Redis(host='localhost',port=6379)"
   ]
  },
  {
   "cell_type": "code",
   "execution_count": null,
   "id": "4b803483-d528-49aa-8bfe-e318b81fa34f",
   "metadata": {
    "id": "4b803483-d528-49aa-8bfe-e318b81fa34f"
   },
   "outputs": [],
   "source": [
    "import sqlite3\n",
    "\n",
    "def setup_classifier_db(conn):\n",
    "    conn.execute(\"\"\"\n",
    "        CREATE TABLE IF NOT EXISTS processed_files\n",
    "        (\n",
    "            file_path      TEXT   NOT NULL,\n",
    "            k_mer_len      INT    NOT NULL,\n",
    "            k_mer_count   INT    NOT NULL\n",
    "        );\n",
    "    \"\"\")\n",
    "    \n",
    "    conn.execute(\"\"\"\n",
    "        CREATE TABLE IF NOT EXISTS k_mers\n",
    "        (\n",
    "            k_mer        INT    NOT NULL,\n",
    "            k_mer_len    INT    NOT NULL,\n",
    "            category     TEXT   NOT NULL\n",
    "        );\n",
    "    \"\"\")\n",
    "    \n",
    "    # conn.execute(\"\"\"\n",
    "    #     CREATE INDEX IF NOT EXISTS k_mer_of_len\n",
    "    #     ON k_mers(k_mer, k_mer_len);\n",
    "    # \"\"\")\n",
    "    \n",
    "    conn.commit()\n",
    "\n",
    "def get_classifier_db():\n",
    "    conn = sqlite3.connect(\"disease_classifier.db\")\n",
    "    setup_classifier_db(conn)\n",
    "    \n",
    "    return conn\n",
    "\n",
    "def create_classifier_index():\n",
    "    conn = sqlite3.connect(\"disease_classifier.db\")\n",
    "    \n",
    "    conn.execute(\"\"\"\n",
    "        CREATE INDEX IF NOT EXISTS k_mer_of_len\n",
    "        ON k_mers(k_mer, k_mer_len);\n",
    "    \"\"\")\n",
    "    \n",
    "    conn.commit()\n",
    "    conn.close()\n",
    "    "
   ]
  },
  {
   "cell_type": "code",
   "execution_count": null,
   "id": "4ab1e6c8-06df-4264-89e0-578039987ec6",
   "metadata": {
    "id": "4ab1e6c8-06df-4264-89e0-578039987ec6"
   },
   "outputs": [],
   "source": [
    "def encode_k_mer(k_mer):\n",
    "    k_mer = k_mer.lower()\n",
    "    k = len(k_mer)\n",
    "    \n",
    "    code = 0\n",
    "    \n",
    "    val = {'a': 0, 'c': 1, 'g': 2, 't': 3}\n",
    "    \n",
    "    for ch in k_mer:\n",
    "        code = code * 4 + val[ch]\n",
    "    return code\n",
    "\n",
    "def decode_k_mer(code, k):\n",
    "    k_mer_chars = []\n",
    "    \n",
    "    valToChar = {0: 'a', 1: 'c', 2: 'g', 3: 't'}\n",
    "    \n",
    "    for i in range(k):\n",
    "        char = valToChar[code % 4]\n",
    "        code //= 4\n",
    "        \n",
    "        k_mer_chars.append(char)\n",
    "    \n",
    "    return \"\".join(k_mer_chars[::-1])"
   ]
  },
  {
   "cell_type": "code",
   "execution_count": 1,
   "id": "5f77a831-e83f-4d33-9e89-4630bdb92ffc",
   "metadata": {},
   "outputs": [],
   "source": [
    "def encode_k_mer(k_mer):\n",
    "    k_mer = k_mer.lower()\n",
    "    k = len(k_mer)\n",
    "    \n",
    "    code = 0\n",
    "    \n",
    "    val = {'a': 0, 'c': 1, 'g': 2, 't': 3}\n",
    "    \n",
    "    for ch in k_mer:\n",
    "        code = code * 4 + val[ch]\n",
    "    return code\n",
    "\n",
    "def decode_k_mer(code, k):\n",
    "    k_mer_chars = []\n",
    "    \n",
    "    valToChar = {0: 'a', 1: 'c', 2: 'g', 3: 't'}\n",
    "    \n",
    "    for i in range(k):\n",
    "        char = valToChar[code % 4]\n",
    "        code //= 4\n",
    "        \n",
    "        k_mer_chars.append(char)\n",
    "    \n",
    "    return \"\".join(k_mer_chars[::-1])"
   ]
  },
  {
   "cell_type": "code",
   "execution_count": 4,
   "id": "91aa8dfe-5e90-4748-a908-a30cbcfd1ec4",
   "metadata": {},
   "outputs": [],
   "source": [
    "import time "
   ]
  },
  {
   "cell_type": "code",
   "execution_count": 8,
   "id": "d12f73f6-0a6d-46a3-bc3e-cf33f6592d70",
   "metadata": {
    "id": "d12f73f6-0a6d-46a3-bc3e-cf33f6592d70"
   },
   "outputs": [
    {
     "name": "stdout",
     "output_type": "stream",
     "text": [
      "aaaaaaatcgcta\n"
     ]
    }
   ],
   "source": [
    "# start_time = time.time()\n",
    "# print(decode_k_mer(encode_k_mer(\"TCGCTA\"),6))\n",
    "# print(encode_k_mer(\"TCGCTA\"))\n",
    "print(decode_k_mer(3484,13))\n",
    "# print(\"--- %s seconds ---\" % (time.time() - start_time))\n",
    "\n",
    "# start_time = time.time()\n",
    "# print(decode_k_mer(encode_k_mer(\"AAAT\"), 4))\n",
    "# print(\"--- %s seconds ---\" % (time.time() - start_time))\n",
    "\n",
    "# # print(decode_k_mer(encode_k_mer(\"AACA\"), 4))\n",
    "\n",
    "\n",
    "# start_time = time.time()\n",
    "# print(decode_k_mer(encode_k_mer(\"AACAA\"), 5))\n",
    "# print(\"--- %s seconds ---\" % (time.time() - start_time))\n",
    "# print(decode_k_mer(encode_k_mer(\"TgCAA\"), 5))\n"
   ]
  },
  {
   "cell_type": "code",
   "execution_count": null,
   "id": "571bd1f0-d992-445d-95e0-a211457b9140",
   "metadata": {
    "id": "571bd1f0-d992-445d-95e0-a211457b9140"
   },
   "outputs": [],
   "source": [
    "def load_file_lines(file_path):\n",
    "    file=open(file_path,\"r\")\n",
    "    lines=file.read().splitlines()\n",
    "    return lines\n"
   ]
  },
  {
   "cell_type": "code",
   "execution_count": null,
   "id": "876af22d-ef76-4181-847f-8aa7816ea9b4",
   "metadata": {
    "id": "876af22d-ef76-4181-847f-8aa7816ea9b4"
   },
   "outputs": [],
   "source": [
    "def generate_k_mer(line,k):\n",
    "    for i in range(len(line)-k+1):\n",
    "        seq=line[i:i+k]\n",
    "        yield seq"
   ]
  },
  {
   "cell_type": "code",
   "execution_count": null,
   "id": "0c782746-fcc0-4887-8dd7-bb384d4dd7e8",
   "metadata": {
    "id": "0c782746-fcc0-4887-8dd7-bb384d4dd7e8"
   },
   "outputs": [],
   "source": [
    "def extract_k_mers_from_line(line, label, k):\n",
    "    # k_mer_count = 0\n",
    "    k_mers = set()\n",
    "    for k_mer in generate_k_mer(line,k):\n",
    "        # k_mer_count += save_k_mer(k_mer,label)\n",
    "        k_mers.add(k_mer)\n",
    "    \n",
    "    return k_mers\n",
    "    # return k_mer_count\n",
    "    # return (len(line) - k + 1, k_mer_count)"
   ]
  },
  {
   "cell_type": "code",
   "execution_count": null,
   "id": "83d5bf64-d5cc-4dac-bfc2-4bc22416f32d",
   "metadata": {
    "id": "83d5bf64-d5cc-4dac-bfc2-4bc22416f32d",
    "tags": []
   },
   "outputs": [],
   "source": [
    "from multiprocessing import Pool, cpu_count\n",
    "from itertools import cycle\n",
    "\n",
    "@timeit\n",
    "def extract_k_mers(file_path,label,k):\n",
    "    lines=load_file_lines(file_path)\n",
    "    \n",
    "    args = list(zip(lines, cycle([label]), cycle([k])))\n",
    "    \n",
    "    pool_size = cpu_count()\n",
    "    with Pool(pool_size) as p:\n",
    "        k_mer_sets = p.starmap(extract_k_mers_from_line, args)\n",
    "        return set.union(*k_mer_sets)\n",
    "        # k_mer_counts = p.starmap(extract_k_mers_from_line, args)\n",
    "        # return sum(k_mer_counts) "
   ]
  },
  {
   "cell_type": "code",
   "execution_count": null,
   "id": "66a0a642-5edc-4ce6-9ff2-7627a304e00c",
   "metadata": {
    "id": "66a0a642-5edc-4ce6-9ff2-7627a304e00c"
   },
   "outputs": [],
   "source": [
    "# def save_k_mer(c, k_mer,category):\n",
    "#     c.execute(\"\"\"INSERT OR IGNORE INTO k_mers\n",
    "#         VALUES (?, ?, ?)\"\"\", (encode_k_mer(k_mer), len(k_mer), category))\n",
    "    \n",
    "#     # key = f\"{category}_{k_mer}\"\n",
    "#     # r.set(key, 1)\n",
    "    \n",
    "#     return 1"
   ]
  },
  {
   "cell_type": "code",
   "execution_count": null,
   "id": "4d2f92dc-f94b-4f26-b4cd-7f485c1dfe8d",
   "metadata": {
    "id": "4d2f92dc-f94b-4f26-b4cd-7f485c1dfe8d"
   },
   "outputs": [],
   "source": [
    "@timeit\n",
    "def save_k_mers(k_mers, category):\n",
    "    with get_classifier_db() as conn:\n",
    "        c = conn.cursor()\n",
    "        k_mers = list(set(k_mers))\n",
    "        \n",
    "        chunk_size = 100000\n",
    "        for i in range(0, len(k_mers), chunk_size):\n",
    "            k_mer_chunk = k_mers[i : i + chunk_size]\n",
    "            records_block = map(lambda k_mer: (encode_k_mer(k_mer), len(k_mer), category), k_mer_chunk)\n",
    "\n",
    "            c.executemany(\"INSERT OR IGNORE INTO k_mers VALUES (?, ?, ?)\", records_block)\n",
    "            \n",
    "            conn.commit()\n",
    "            \n",
    "            print(f\"\\rStoring k_mers in db... {100*i/len(k_mers):.2f}%\", end=\"\")\n",
    "        \n",
    "        print(\"\\r                                                       \")\n"
   ]
  },
  {
   "cell_type": "code",
   "execution_count": null,
   "id": "065e2a88-3dda-4798-88b5-9ad00a0d0194",
   "metadata": {
    "id": "065e2a88-3dda-4798-88b5-9ad00a0d0194"
   },
   "outputs": [],
   "source": [
    "import os\n",
    "\n",
    "def is_file_processed(file, k):\n",
    "    conn = get_classifier_db()\n",
    "    c = conn.cursor()\n",
    "    \n",
    "    c.execute(\"\"\"SELECT 1 FROM processed_files\n",
    "        WHERE file_path = ? AND k_mer_len = ?\"\"\", (file, k))\n",
    "    \n",
    "    rs = c.fetchone()\n",
    "    return rs is not None\n",
    "    \n",
    "    # file_name = os.path.basename(file)\n",
    "    # status_key = f\"status_{k}_{file_name}\"\n",
    "    \n",
    "    \n",
    "    # return r.get(status_key) is not None"
   ]
  },
  {
   "cell_type": "code",
   "execution_count": null,
   "id": "f83e557a-0f05-4422-8ed5-1a83f7c7427c",
   "metadata": {
    "id": "f83e557a-0f05-4422-8ed5-1a83f7c7427c"
   },
   "outputs": [],
   "source": [
    "def mark_file_processed(file, k, k_mer_count):\n",
    "    \n",
    "    with get_classifier_db() as conn:\n",
    "        c = conn.cursor()\n",
    "\n",
    "        c.execute(\"\"\"INSERT INTO processed_files\n",
    "            VALUES (?, ?, ?)\"\"\", (file, k, k_mer_count))\n",
    "\n",
    "        conn.commit()\n",
    "\n",
    "        # file_name = os.path.basename(file)\n",
    "        # status_key = f\"status_{k}_{file_name}\"\n",
    "\n",
    "        # r.set(status_key, k_mer_count)"
   ]
  },
  {
   "cell_type": "code",
   "execution_count": null,
   "id": "b1835225-af57-43cd-b867-8ac58508c6b3",
   "metadata": {
    "id": "b1835225-af57-43cd-b867-8ac58508c6b3"
   },
   "outputs": [],
   "source": [
    "def processed_k_mer_count(file, k):\n",
    "    conn = get_classifier_db()\n",
    "    c = conn.cursor()\n",
    "    \n",
    "    c.execute(\"\"\"SELECT k_mek_mer_countr_count FROM processed_files\n",
    "        WHERE file_path = ? AND k_mer_len = ?\"\"\", (file, k))\n",
    "    \n",
    "    rs = c.fetchone()\n",
    "    return None if rs is None else rs[0]"
   ]
  },
  {
   "cell_type": "code",
   "execution_count": null,
   "id": "2abac0e5-4cc2-407c-b3ea-a5ccc825c3e8",
   "metadata": {
    "id": "2abac0e5-4cc2-407c-b3ea-a5ccc825c3e8"
   },
   "outputs": [],
   "source": [
    "import os\n",
    "\n",
    "def process_file(file, category, k):\n",
    "    file_name = os.path.basename(file)\n",
    "    print()\n",
    "    print(f\"k = {k}\")\n",
    "    print(category + \" - \" + file_name)\n",
    "    \n",
    "    if is_file_processed(file, k):\n",
    "        print(\"Already  processed, k_mer count:\", processed_k_mer_count(file, k))\n",
    "    else:\n",
    "        print(\"Extracting k_mers\")\n",
    "        # k_mer_count = extract_k_mers(file, category, k)\n",
    "        k_mers = extract_k_mers(file, category, k)\n",
    "        \n",
    "        k_mer_count = len(k_mers)\n",
    "        print(\"k_mer count:\", k_mer_count)\n",
    "        \n",
    "        print(\"Storing k_mers in db...\", end = \"\")\n",
    "        save_k_mers(k_mers, category)\n",
    "        \n",
    "        \n",
    "        mark_file_processed(file, k, k_mer_count)"
   ]
  },
  {
   "cell_type": "code",
   "execution_count": null,
   "id": "8c6fd05b-495b-417b-9efb-9e5691148bdf",
   "metadata": {
    "id": "8c6fd05b-495b-417b-9efb-9e5691148bdf"
   },
   "outputs": [],
   "source": [
    "import os\n",
    "\n",
    "def get_files_and_categories(rootDir):\n",
    "    root, categories, _ = next(os.walk(rootDir))\n",
    "    \n",
    "    files = []\n",
    "    file_category = dict()\n",
    "    \n",
    "    for category in categories:\n",
    "        directory = os.path.join(root, category)\n",
    "        \n",
    "        for file in glob.glob(f\"{directory}/*.txt\"):\n",
    "            files.append(file)\n",
    "            file_category[file] = category\n",
    "    \n",
    "    return categories, files, file_category\n",
    "    "
   ]
  },
  {
   "cell_type": "code",
   "execution_count": null,
   "id": "34af5d82-d564-4723-8785-00f3aef065e6",
   "metadata": {
    "id": "34af5d82-d564-4723-8785-00f3aef065e6"
   },
   "outputs": [],
   "source": [
    "import os\n",
    "import glob\n",
    "\n",
    "# txtfiles = []\n",
    "# for file in glob.glob(\"*.txt\"):\n",
    "#     txtfiles.append(file)\n",
    "def process_all_data_files(k):\n",
    "    categories, files, file_category = get_files_and_categories(\"./clean_data\")\n",
    "    \n",
    "    for file in files:\n",
    "        category = file_category[file]\n",
    "        process_file(file, category, k)\n"
   ]
  },
  {
   "cell_type": "code",
   "execution_count": null,
   "id": "d9dcaee6-3859-4860-a188-562b97a49d0e",
   "metadata": {
    "id": "d9dcaee6-3859-4860-a188-562b97a49d0e"
   },
   "outputs": [],
   "source": [
    "%set_env TMPDIR=/media/bioinfo/Data_1/Preonath_Thesis/MS_thesis/db_tmp\n",
    "%set_env SQLITE_TMPDIR=/media/bioinfo/Data_1/Preonath_Thesis/MS_thesis/db_tmp"
   ]
  },
  {
   "cell_type": "code",
   "execution_count": null,
   "id": "34e52009-1542-4ef9-b27e-196cd35c2958",
   "metadata": {
    "id": "34e52009-1542-4ef9-b27e-196cd35c2958"
   },
   "outputs": [],
   "source": [
    "!echo $TMPDIR\n",
    "!echo $SQLITE_TMPDIR"
   ]
  },
  {
   "cell_type": "code",
   "execution_count": null,
   "id": "4f6f899e-8dc6-43e6-a552-e16865b3707b",
   "metadata": {
    "id": "4f6f899e-8dc6-43e6-a552-e16865b3707b",
    "tags": []
   },
   "outputs": [],
   "source": [
    "for k in range(9, 30):\n",
    "    process_all_data_files(k)\n",
    "\n",
    "create_classifier_index()"
   ]
  },
  {
   "cell_type": "code",
   "execution_count": null,
   "id": "2145c19a-2161-49e4-8fc8-245cd562bd16",
   "metadata": {
    "id": "2145c19a-2161-49e4-8fc8-245cd562bd16"
   },
   "outputs": [],
   "source": [
    "import collections\n",
    "from collections import defaultdict\n",
    "\n",
    "def is_kmer_in_category(k_mer, category):\n",
    "    conn = get_classifier_db()\n",
    "    c = conn.cursor()\n",
    "    \n",
    "    k = len(k_mer)\n",
    "\n",
    "    c.execute(\"\"\"SELECT 1 FROM k_mers\n",
    "        WHERE k_mer = ? AND k_mer_len = ? AND category = ?\"\"\", (encode_k_mer(k_mer), k, category))\n",
    "    \n",
    "    rs = c.fetchone()\n",
    "    return rs is not None\n",
    "\n",
    "def test_model(k):\n",
    "    categories, _, _ = get_files_and_categories(\"./clean_data\")\n",
    "    _, files, file_category = get_files_and_categories(\"./test_data\")\n",
    "    \n",
    "    \n",
    "    for file in files:\n",
    "        print()\n",
    "        print(file)\n",
    "        \n",
    "        actual_category = file_category[file]\n",
    "        print(actual_category)\n",
    "        k_mers = extract_k_mers(file, actual_category, k)\n",
    "        \n",
    "        category_count = defaultdict(int)\n",
    "        \n",
    "        for k_mer in k_mers:\n",
    "            for category in categories:\n",
    "                if is_kmer_in_category(k_mer, category):\n",
    "                    category_count[category] += 1\n",
    "            \n",
    "        for category in categories:\n",
    "            print(category, category_count[category])\n",
    "        \n",
    "    \n",
    "test_model(21)"
   ]
  },
  {
   "cell_type": "markdown",
   "id": "ad2e5854-c4e9-467c-b724-5386e410d5d1",
   "metadata": {
    "id": "ad2e5854-c4e9-467c-b724-5386e410d5d1"
   },
   "source": [
    "### k = 9\n",
    "\n",
    "### 113240320 k_mer keys\n",
    "\n",
    "./test_data/SRS/final.contigs_SRS011271.fa.txt\\\n",
    "SRS\\\n",
    "Elapsed Time:  54.02953052520752\\\n",
    "[('SRS', 262143), ('CSM', 261977), ('HMP2', 262143), ('MSM', 262139)]\n",
    "\n",
    "./test_data/CSM/final.contigs_CSM5FZ44_P.fa.txt\\\n",
    "CSM\\\n",
    "Elapsed Time:  5.754974842071533\\\n",
    "[('SRS', 261774), ('CSM', 261654), ('HMP2', 261774), ('MSM', 261771)]\n",
    "\n",
    "./test_data/HMP2/final.contigs_HMP2_J00829_M_ST_T0_B0_0120_ZN9YTFN-1014_C8GAAANXX_L002.fa.txt\\\n",
    "HMP2\\\n",
    "Elapsed Time:  63.694913387298584\\\n",
    "[('SRS', 262144), ('CSM', 261978), ('HMP2', 262144), ('MSM', 262140)]"
   ]
  },
  {
   "cell_type": "code",
   "execution_count": null,
   "id": "4b087494-0929-455b-b523-5b8804b8c4ea",
   "metadata": {
    "id": "4b087494-0929-455b-b523-5b8804b8c4ea"
   },
   "outputs": [],
   "source": [
    "# @timeit\n",
    "# def deleteAll():\n",
    "#     keys = r.keys(\"*\")\n",
    "#     for key in keys:\n",
    "#         r.delete(key)\n",
    "#     print(len(keys))\n",
    "    \n",
    "# deleteAll()"
   ]
  },
  {
   "cell_type": "code",
   "execution_count": null,
   "id": "347bdbc0-57a5-401b-9e7c-1c72586fa1ee",
   "metadata": {
    "id": "347bdbc0-57a5-401b-9e7c-1c72586fa1ee"
   },
   "outputs": [],
   "source": [
    "# !pip install redis"
   ]
  },
  {
   "cell_type": "code",
   "execution_count": null,
   "id": "941ebcbb-7c59-4e8a-a17a-60c442b4d688",
   "metadata": {
    "id": "941ebcbb-7c59-4e8a-a17a-60c442b4d688"
   },
   "outputs": [],
   "source": [
    "# import redis\n",
    "# import time \n",
    "# r=redis.Redis(host='localhost',port=6379)\n",
    "# # r.set(\"France\",\"Paris\")\n",
    "# # r.set(\"Germany\",\"Berlin\")\n",
    "# capital_france=r.get(\"France\")\n",
    "# capital_germany=r.get(\"Germany\")\n",
    "# print(capital_france)\n",
    "# print(capital_germany)"
   ]
  },
  {
   "cell_type": "code",
   "execution_count": null,
   "id": "f199f01e-1789-48ac-9bf4-5aca1fb34d2e",
   "metadata": {
    "id": "f199f01e-1789-48ac-9bf4-5aca1fb34d2e"
   },
   "outputs": [],
   "source": []
  },
  {
   "cell_type": "code",
   "execution_count": null,
   "id": "f072e43f-dc81-4412-8485-571a4f551305",
   "metadata": {
    "id": "f072e43f-dc81-4412-8485-571a4f551305"
   },
   "outputs": [],
   "source": []
  }
 ],
 "metadata": {
  "colab": {
   "name": "Dis_classification.ipynb",
   "provenance": []
  },
  "kernelspec": {
   "display_name": "Deep_Py",
   "language": "python",
   "name": "ipy_deep"
  },
  "language_info": {
   "codemirror_mode": {
    "name": "ipython",
    "version": 3
   },
   "file_extension": ".py",
   "mimetype": "text/x-python",
   "name": "python",
   "nbconvert_exporter": "python",
   "pygments_lexer": "ipython3",
   "version": "3.9.7"
  }
 },
 "nbformat": 4,
 "nbformat_minor": 5
}
